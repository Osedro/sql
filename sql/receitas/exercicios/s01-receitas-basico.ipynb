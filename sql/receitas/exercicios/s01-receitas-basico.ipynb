{
 "cells": [
  {
   "cell_type": "code",
   "execution_count": 1,
   "metadata": {},
   "outputs": [
    {
     "data": {
      "application/vnd.jupyter.widget-view+json": {
       "model_id": "a5ccd43d-70aa-4378-a93a-1a18d3b37c81",
       "version_major": 2,
       "version_minor": 0
      },
      "method": "display_data"
     },
     "metadata": {},
     "output_type": "display_data"
    },
    {
     "data": {
      "application/vnd.jupyter.widget-view+json": {
       "model_id": "a17be32a-5cf1-47c1-987e-c6ac836b3d34",
       "version_major": 2,
       "version_minor": 0
      },
      "method": "display_data"
     },
     "metadata": {},
     "output_type": "display_data"
    },
    {
     "data": {
      "application/vnd.jupyter.widget-view+json": {
       "model_id": "5674c1b7-ff4d-4bf0-8308-7c3388ef4a67",
       "version_major": 2,
       "version_minor": 0
      },
      "method": "display_data"
     },
     "metadata": {},
     "output_type": "display_data"
    }
   ],
   "source": [
    "%defaultDatasource jdbc:h2:file:~/data/receitas/receitas\n",
    "\n",
    "DROP Table IF EXISTS Ingrediente;\n",
    "DROP Table IF EXISTS Receita;\n",
    "DROP Table IF EXISTS Produto;\n",
    "\n",
    "CREATE TABLE Produto (\n",
    "  codigo_produto VARCHAR(7),\n",
    "  nome_produto VARCHAR(80),\n",
    "  custo_unitario FLOAT,\n",
    "  PRIMARY KEY (codigo_produto)\n",
    ");\n",
    "\n",
    "CREATE TABLE Receita (\n",
    "  codigo_receita VARCHAR(7),\n",
    "  nome_receita VARCHAR(80),\n",
    "  tipo_receita VARCHAR(6),\n",
    "  PRIMARY KEY (codigo_receita));\n",
    "               \n",
    "CREATE TABLE Ingrediente (\n",
    "  codigo_receita VARCHAR(7),\n",
    "  codigo_produto VARCHAR(7),\n",
    "  quantidade FLOAT,\n",
    "  PRIMARY KEY (codigo_receita, codigo_produto),\n",
    "  FOREIGN KEY (codigo_receita)\n",
    "    REFERENCES Receita (codigo_receita),\n",
    "  FOREIGN KEY (codigo_produto)\n",
    "    REFERENCES Produto (codigo_produto) );\n",
    "\n",
    "INSERT INTO Produto VALUES ('CHOCO', 'Chocolate', 3.0);\n",
    "INSERT INTO Produto VALUES ('CENO', 'Cenoura', 1.5);\n",
    "INSERT INTO Produto VALUES ('ACU', 'Acucar', 0.5);\n",
    "INSERT INTO Produto VALUES ('SUCRA', 'Sucralose', 5.0);\n",
    "INSERT INTO Produto VALUES ('FAR', 'Farinha', 1.0);\n",
    "\n",
    "INSERT INTO Receita VALUES ('BOLOCE', 'Bolo Cenoura', 'vegana');\n",
    "INSERT INTO Receita VALUES ('BOLOCH', 'Bolo Chocolate', 'normal');\n",
    "INSERT INTO Receita VALUES ('BOLOCEL', 'Bolo Cenoura Light', 'light');\n",
    "\n",
    "INSERT INTO Ingrediente VALUES ('BOLOCE', 'CENO', 1.0);\n",
    "INSERT INTO Ingrediente VALUES ('BOLOCE', 'ACU', 1.0);\n",
    "INSERT INTO Ingrediente VALUES ('BOLOCE', 'FAR', 3.0);\n",
    "INSERT INTO Ingrediente VALUES ('BOLOCH', 'CHOCO', 1.0);\n",
    "INSERT INTO Ingrediente VALUES ('BOLOCH', 'ACU', 1.0);\n",
    "INSERT INTO Ingrediente VALUES ('BOLOCH', 'FAR', 3.0);\n",
    "INSERT INTO Ingrediente VALUES ('BOLOCEL', 'CENO', 1.0);\n",
    "INSERT INTO Ingrediente VALUES ('BOLOCEL', 'SUCRA', 1.0);\n",
    "INSERT INTO Ingrediente VALUES ('BOLOCEL', 'FAR', 3.0);\n",
    "\n",
    "SELECT * FROM Produto;\n",
    "SELECT * FROM Receita;\n",
    "SELECT * FROM Ingrediente;"
   ]
  },
  {
   "cell_type": "code",
   "execution_count": 6,
   "metadata": {},
   "outputs": [
    {
     "data": {
      "application/vnd.jupyter.widget-view+json": {
       "model_id": "cae8045b-b2bb-4436-9ed2-f632289ab362",
       "version_major": 2,
       "version_minor": 0
      },
      "method": "display_data"
     },
     "metadata": {},
     "output_type": "display_data"
    }
   ],
   "source": [
    "SELECT I.CODIGO_RECEITA, P.CODIGO_PRODUTO\n",
    "FROM Ingrediente I, Produto P\n",
    "WHERE I.CODIGO_PRODUTO = P.CODIGO_PRODUTO"
   ]
  },
  {
   "cell_type": "code",
   "execution_count": 2,
   "metadata": {},
   "outputs": [
    {
     "data": {
      "application/vnd.jupyter.widget-view+json": {
       "model_id": "add533c2-035c-477b-bbc7-99e54d19e0f1",
       "version_major": 2,
       "version_minor": 0
      },
      "method": "display_data"
     },
     "metadata": {},
     "output_type": "display_data"
    }
   ],
   "source": [
    "SELECT I.CODIGO_RECEITA, SUM(I.quantidade * P.custo_unitario) custo_receita\n",
    "FROM Ingrediente I, Produto P\n",
    "WHERE I.CODIGO_PRODUTO = P.CODIGO_PRODUTO\n",
    "GROUP BY I.CODIGO_RECEITA;"
   ]
  },
  {
   "cell_type": "code",
   "execution_count": 3,
   "metadata": {},
   "outputs": [
    {
     "data": {
      "application/vnd.jupyter.widget-view+json": {
       "model_id": "67fdf921-c3f2-4c23-9aed-b75ec5843962",
       "version_major": 2,
       "version_minor": 0
      },
      "method": "display_data"
     },
     "metadata": {},
     "output_type": "display_data"
    }
   ],
   "source": [
    "UPDATE Produto P\n",
    "SET P.custo_unitario = P.custo_unitario * 1.1;\n",
    "\n",
    "SELECT *\n",
    "FROM Produto P;"
   ]
  },
  {
   "cell_type": "code",
   "execution_count": 4,
   "metadata": {},
   "outputs": [
    {
     "data": {
      "application/vnd.jupyter.widget-view+json": {
       "model_id": "c3ddf4a7-21bc-4df3-bb74-0d8731cdaf57",
       "version_major": 2,
       "version_minor": 0
      },
      "method": "display_data"
     },
     "metadata": {},
     "output_type": "display_data"
    }
   ],
   "source": [
    "SELECT I.CODIGO_RECEITA, SUM(I.quantidade * P.custo_unitario) custo_receita\n",
    "FROM Ingrediente I, Produto P\n",
    "WHERE I.CODIGO_PRODUTO = P.CODIGO_PRODUTO\n",
    "GROUP BY I.CODIGO_RECEITA;"
   ]
  },
  {
   "cell_type": "code",
   "execution_count": 5,
   "metadata": {},
   "outputs": [
    {
     "data": {
      "application/vnd.jupyter.widget-view+json": {
       "model_id": "e65bc6d2-38ff-4b09-8b2f-8d58cd1dc845",
       "version_major": 2,
       "version_minor": 0
      },
      "method": "display_data"
     },
     "metadata": {},
     "output_type": "display_data"
    }
   ],
   "source": [
    "SELECT P.nome_produto\n",
    "FROM Produto P, Ingrediente I, Receita R\n",
    "WHERE R.codigo_receita=I.codigo_receita AND P.codigo_produto=I.codigo_produto\n",
    "      AND R.tipo_receita='vegana' AND P.custo_unitario > 1.0"
   ]
  }
 ],
 "metadata": {
  "kernelspec": {
   "display_name": "SQL",
   "language": "SQL",
   "name": "sql"
  },
  "language_info": {
   "codemirror_mode": "sql",
   "file_extension": ".sql",
   "mimetype": "",
   "name": "SQL",
   "nbconverter_exporter": "",
   "version": ""
  }
 },
 "nbformat": 4,
 "nbformat_minor": 2
}
