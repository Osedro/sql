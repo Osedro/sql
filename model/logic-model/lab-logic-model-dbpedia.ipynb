{
 "cells": [
  {
   "cell_type": "markdown",
   "metadata": {},
   "source": [
    "# Acessando a DBPedia\n",
    "\n",
    "Considere a página na Wikipedia do livro [The Tin Drum](https://en.wikipedia.org/wiki/The_Tin_Drum).\n",
    "\n",
    "Há um nó equivalente na DBPedia em [The Tin Drum](http://dbpedia.org/page/The_Tin_Drum).\n",
    "\n",
    "## Carregando um nó da DBPedia\n",
    "\n",
    "A partir do que aprendemos na aula sobre APIs, é possível carregar o conteúdo em JSON desse nó da seguinte maneira:"
   ]
  },
  {
   "cell_type": "code",
   "execution_count": null,
   "metadata": {},
   "outputs": [],
   "source": [
    "import io\n",
    "import requests\n",
    "import json\n",
    "url_drum = \"http://dbpedia.org/data/The_Tin_Drum.jsod\"\n",
    "js_drum = requests.get(url_drum)\n",
    "print(js_drum.content.decode(\"utf-8\"))"
   ]
  },
  {
   "cell_type": "markdown",
   "metadata": {},
   "source": [
    "# Acessando e navegando pelo Grafo\n",
    "### Quem é autor de The Tin Drum?"
   ]
  },
  {
   "cell_type": "code",
   "execution_count": null,
   "metadata": {},
   "outputs": [],
   "source": [
    "json_drum = js_drum.json()\n",
    "url_grass = json_drum[\"d\"][\"results\"][0][\"http://dbpedia.org/ontology/author\"][\"__deferred\"][\"uri\"]\n",
    "print(\"Autor de The Tin Drum: \" + url_grass)"
   ]
  },
  {
   "cell_type": "markdown",
   "metadata": {},
   "source": [
    "## Tarefa\n",
    "\n",
    "### Carregue o nó de Günter Grass em Python e mostre o conteúdo JSON."
   ]
  },
  {
   "cell_type": "code",
   "execution_count": null,
   "metadata": {},
   "outputs": [],
   "source": []
  },
  {
   "cell_type": "markdown",
   "metadata": {},
   "source": [
    "## Tarefa\n",
    "### Quais os livros escritos por Günter Grass?"
   ]
  },
  {
   "cell_type": "code",
   "execution_count": null,
   "metadata": {},
   "outputs": [],
   "source": []
  },
  {
   "cell_type": "markdown",
   "metadata": {},
   "source": [
    "# MeSH - Medical Subject Headings\n",
    "\n",
    "## Pesquisa para humanos\n",
    "\n",
    "Através do endereço [MeSH Search](https://meshb.nlm.nih.gov/search).\n",
    "\n",
    "Procure o termo: Myocardial Infarction.\n",
    "\n",
    "## Serviços para Máquinas\n",
    "\n",
    "É possível acessar os mesmos dados pela [API JSON](https://id.nlm.nih.gov/mesh/swagger/ui).\n",
    "\n",
    "Buscando o código de Myocardial Infarction:"
   ]
  },
  {
   "cell_type": "code",
   "execution_count": null,
   "metadata": {},
   "outputs": [],
   "source": [
    "url_mi = \"https://id.nlm.nih.gov/mesh/lookup/descriptor?label=Myocardial%20Infarction&match=exact&limit=10\"\n",
    "js_mi = requests.get(url_mi)\n",
    "print(js_mi.content.decode(\"utf-8\"))"
   ]
  },
  {
   "cell_type": "markdown",
   "metadata": {},
   "source": [
    "Acessando detalhes a partir do código:"
   ]
  },
  {
   "cell_type": "code",
   "execution_count": null,
   "metadata": {},
   "outputs": [],
   "source": [
    "url_mid = \"https://id.nlm.nih.gov/mesh/lookup/details?descriptor=D009203\"\n",
    "js_mid = requests.get(url_mid)\n",
    "print(js_mid.content.decode(\"utf-8\"))"
   ]
  },
  {
   "cell_type": "markdown",
   "metadata": {},
   "source": [
    "## Tarefa\n",
    "### Quais os termos usados para Aspirina (consulta JSON/MeSH em Python)?"
   ]
  },
  {
   "cell_type": "code",
   "execution_count": null,
   "metadata": {},
   "outputs": [],
   "source": []
  }
 ],
 "metadata": {
  "kernelspec": {
   "display_name": "Python 3",
   "language": "python",
   "name": "python3"
  },
  "language_info": {
   "codemirror_mode": {
    "name": "ipython",
    "version": 3
   },
   "file_extension": ".py",
   "mimetype": "text/x-python",
   "name": "python",
   "nbconvert_exporter": "python",
   "pygments_lexer": "ipython3",
   "version": "3.7.8"
  }
 },
 "nbformat": 4,
 "nbformat_minor": 4
}
